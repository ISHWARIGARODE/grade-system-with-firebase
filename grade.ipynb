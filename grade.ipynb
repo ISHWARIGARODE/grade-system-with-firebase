{
 "cells": [
  {
   "cell_type": "code",
   "execution_count": 1,
   "id": "b50b6940",
   "metadata": {},
   "outputs": [
    {
     "name": "stdout",
     "output_type": "stream",
     "text": [
      "3\n",
      "0.6\n",
      "9\n",
      "1.8\n",
      "16\n",
      "3.2\n",
      "24\n",
      "4.8\n",
      "33\n",
      "6.6\n",
      "fail\n",
      "data to be send\n"
     ]
    }
   ],
   "source": [
    "import firebase_admin\n",
    "from firebase_admin import credentials,db\n",
    "cred=credentials.Certificate(\"C:/Users/Ashish/OneDrive/Desktop/python3.10/ishwari-e06de-firebase-adminsdk-fbsvc-99ad2fa7d1.json\")\n",
    "if not firebase_admin._apps:\n",
    "    firebase_admin.initialize_app(cred,{\"databaseURL\":\"https://ishwari-e06de-default-rtdb.firebaseio.com/\"})\n",
    "a=int(input(\"enter the mark\"))\n",
    "totalmarks=0\n",
    "for i in range(5):\n",
    "    marks=int(input(\"enter marks{i}\"))\n",
    "    totalmarks +=marks\n",
    "    print(totalmarks)\n",
    "    avg=totalmarks/5\n",
    "    print(avg)\n",
    "if (a>90):\n",
    "   z= \"grade a\"\n",
    "elif(a>80):\n",
    "    z=\"grade b\"\n",
    "elif(a>70):\n",
    "    z=\"grade c\"\n",
    "else:\n",
    "    z=\"fail\"\n",
    "print(z)       \n",
    "ref=db.reference(\"grade\")\n",
    "ref.push({\"first value\":z})\n",
    "print(\"data to be send\")\n"
   ]
  }
 ],
 "metadata": {
  "kernelspec": {
   "display_name": "Python 3",
   "language": "python",
   "name": "python3"
  },
  "language_info": {
   "codemirror_mode": {
    "name": "ipython",
    "version": 3
   },
   "file_extension": ".py",
   "mimetype": "text/x-python",
   "name": "python",
   "nbconvert_exporter": "python",
   "pygments_lexer": "ipython3",
   "version": "3.10.11"
  }
 },
 "nbformat": 4,
 "nbformat_minor": 5
}
